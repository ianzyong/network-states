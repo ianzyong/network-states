{
 "cells": [
  {
   "cell_type": "code",
   "execution_count": 1,
   "metadata": {
    "collapsed": false
   },
   "outputs": [
    {
     "name": "stdout",
     "output_type": "stream",
     "text": [
      "All modules imported.\n"
     ]
    }
   ],
   "source": [
    "# Ian Ong\n",
    "# 9.12.2020\n",
    "\n",
    "import sys\n",
    "# let python know where installed packages are\n",
    "sys.path.append('/home1/i/ianzyong/.conda/envs/network_states/lib/python3.6/site-packages')\n",
    "import os\n",
    "import _pickle as cPickle\n",
    "import numpy\n",
    "import pandas as pd\n",
    "import matplotlib as mpl\n",
    "import matplotlib.pyplot as plt\n",
    "import seaborn as sns\n",
    "import bct\n",
    "\n",
    "print('All modules imported.')"
   ]
  },
  {
   "cell_type": "code",
   "execution_count": 6,
   "metadata": {
    "collapsed": false
   },
   "outputs": [],
   "source": [
    "# TODO: load in pickle files, unpickle as needed\n",
    "path = '/gdrive/public/DATA/Human_Data/BIDS_processed/sub-RID0424/connectivity_matrices/functional/eeg/'\n",
    "files = os.listdir(path)\n",
    "\n",
    "# unpickling leads to an error within pandas? possibly update pandas for the anaconda installation on the server\n",
    "\n",
    "#pickleData = [pd.read_pickle(\"{}/{}\".format(path,x)) for x in files] # read all pickle files\n",
    "#functionalArrays = [fileData[0:5] for fileData in pickleData] # take numeric data\n",
    "#functional = np.concatenate(functionalArrays, axis=-1) # merge numeric data\n",
    "\n",
    "# use a test array for now"
   ]
  },
  {
   "cell_type": "code",
   "execution_count": 7,
   "metadata": {
    "collapsed": false
   },
   "outputs": [],
   "source": [
    "# Track network metrics over time"
   ]
  },
  {
   "cell_type": "code",
   "execution_count": 8,
   "metadata": {
    "collapsed": false
   },
   "outputs": [],
   "source": [
    "# Construct network configuration similarity matrix"
   ]
  },
  {
   "cell_type": "code",
   "execution_count": 9,
   "metadata": {
    "collapsed": true
   },
   "outputs": [],
   "source": [
    "# Implement Mapper algorithm"
   ]
  },
  {
   "cell_type": "code",
   "execution_count": 10,
   "metadata": {
    "collapsed": false
   },
   "outputs": [
    {
     "name": "stdout",
     "output_type": "stream",
     "text": [
      "0.18.1\n",
      "Python 3.5.2 :: Anaconda 4.2.0 (64-bit)\n",
      "3.5.2\n"
     ]
    }
   ],
   "source": [
    "# Diagnostics\n",
    "print(pd.__version__)\n",
    "!python -V\n",
    "from platform import python_version\n",
    "print(python_version())"
   ]
  },
  {
   "cell_type": "code",
   "execution_count": null,
   "metadata": {
    "collapsed": true
   },
   "outputs": [],
   "source": []
  }
 ],
 "metadata": {
  "anaconda-cloud": {},
  "kernelspec": {
   "display_name": "Python [default]",
   "language": "python",
   "name": "python3"
  },
  "language_info": {
   "codemirror_mode": {
    "name": "ipython",
    "version": 3
   },
   "file_extension": ".py",
   "mimetype": "text/x-python",
   "name": "python",
   "nbconvert_exporter": "python",
   "pygments_lexer": "ipython3",
   "version": "3.5.2"
  }
 },
 "nbformat": 4,
 "nbformat_minor": 2
}
